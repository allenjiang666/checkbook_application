{
 "cells": [
  {
   "cell_type": "markdown",
   "metadata": {},
   "source": [
    "# Basic Features"
   ]
  },
  {
   "cell_type": "code",
   "execution_count": 5,
   "metadata": {},
   "outputs": [],
   "source": [
    "#check input\n",
    "def check_input(str_num):\n",
    "    string = str_num.replace(\".\", \"\")\n",
    "    return string.isdigit()\n",
    "      \n",
    "    \n",
    "#get current balance \n",
    "def get_current_balance():\n",
    "    with open(\"balance.txt\") as f:\n",
    "        balances = f.readlines()\n",
    "    balance_in_nums = []\n",
    "    for balance in balances:\n",
    "        balance_in_nums.append(float(balance.replace(\"\\n\", \"\")))\n",
    "    return  sum(balance_in_nums )\n",
    "\n",
    "#get credit\n",
    "def get_credit():\n",
    "    while True:\n",
    "        credit = input(\"How much would you like to deposit? $\")\n",
    "        if check_input(credit):\n",
    "            break  \n",
    "        print(\"Invalid input, please try again!\")\n",
    "    with open(\"balance.txt\", \"a\") as f:\n",
    "        f.write(credit+\"\\n\")\n",
    "    return credit\n",
    "\n",
    "#get debit\n",
    "def get_debit():\n",
    "    while True:\n",
    "        debit = input(\"How much would you like to withdraw? $\")\n",
    "        if check_input(debit):\n",
    "            break  \n",
    "        print(\"Invalid input, please try again!\")\n",
    "#check if the debit excceed the current balance\n",
    "    if float(debit) >= get_current_balance():\n",
    "        print(\"The amout you withdraw ecceed your balance, please enter again.\")\n",
    "        return \"0\"\n",
    "    else:\n",
    "        with open(\"balance.txt\", \"a\") as f:\n",
    "            f.write(\"-\" + debit + \"\\n\")\n",
    "        return debit\n",
    "       "
   ]
  },
  {
   "cell_type": "markdown",
   "metadata": {},
   "source": [
    "# Additional Feature"
   ]
  },
  {
   "cell_type": "code",
   "execution_count": 15,
   "metadata": {},
   "outputs": [],
   "source": [
    "#Show historical transaction:\n",
    "def show_historical_transactions():\n",
    "    with open(\"balance.txt\") as f:\n",
    "        balances = f.readlines()\n",
    "    for i, balance in enumerate(balances, start = 1):\n",
    "        if float(balance) <= 0:\n",
    "            print(str(i) + \" Withdraw amount: $\" + balance)\n",
    "        else:\n",
    "            print(str(i) + \" Deposit amount: $\" + balance)"
   ]
  },
  {
   "cell_type": "code",
   "execution_count": null,
   "metadata": {},
   "outputs": [],
   "source": [
    "# Greetings \n",
    "print(\"\\n~~~ Welcome to your terminal checkbook! ~~~\\n\\n\")\n",
    "\n",
    "\n",
    "\n"
   ]
  },
  {
   "cell_type": "code",
   "execution_count": null,
   "metadata": {},
   "outputs": [
    {
     "name": "stdout",
     "output_type": "stream",
     "text": [
      "What would you like to do?\n",
      "\n",
      "1) view current balance\n",
      "2) record a debit (withdraw)\n",
      "3) record a credit (deposit)\n",
      "4) exit\n",
      "\n",
      "Your choice? 4\n",
      "The following list your historical transactions \n",
      "1 Deposit amount: $300\n",
      "\n",
      "2 Withdraw amount: $-50\n",
      "\n",
      "3 Deposit amount: $100\n",
      "\n",
      "4 Deposit amount: $400\n",
      "\n",
      "5 Withdraw amount: $-150\n",
      "\n",
      "6 Deposit amount: $35\n",
      "\n"
     ]
    }
   ],
   "source": [
    "# Main function\n",
    "while True:\n",
    "    choice = input(\"What would you like to do?\\n\\n1) view current balance\\n2) record a debit (withdraw)\\n3) record a credit (deposit)\\n4) exit\\n\\nYour choice? \")\n",
    "    if choice == \"1\":\n",
    "        print(\"Your current balance is $\" + str(get_current_balance()))\n",
    "        \n",
    "    elif choice == \"2\":\n",
    "        print(\"You have withdraw $\" + get_debit() + \" off your account.\")\n",
    "        \n",
    "    elif choice == \"3\":\n",
    "        print(\"You have deposit $\" + get_credit() + \" into your account.\")\n",
    "    \n",
    "    elif choice == \"4\":\n",
    "        print(\"The following list your historical transactions \")\n",
    "        show_historical_transactions()\n",
    "            \n",
    "    elif choice == \"5\":\n",
    "        print(\"Thanks, have a great day!\")\n",
    "        break\n",
    "    else:\n",
    "        print(\"Invalid input\")"
   ]
  },
  {
   "cell_type": "code",
   "execution_count": null,
   "metadata": {},
   "outputs": [],
   "source": []
  }
 ],
 "metadata": {
  "kernelspec": {
   "display_name": "Python 3",
   "language": "python",
   "name": "python3"
  },
  "language_info": {
   "codemirror_mode": {
    "name": "ipython",
    "version": 3
   },
   "file_extension": ".py",
   "mimetype": "text/x-python",
   "name": "python",
   "nbconvert_exporter": "python",
   "pygments_lexer": "ipython3",
   "version": "3.7.4"
  }
 },
 "nbformat": 4,
 "nbformat_minor": 2
}
