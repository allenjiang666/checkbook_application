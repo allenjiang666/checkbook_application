{
 "cells": [
  {
   "cell_type": "markdown",
   "metadata": {},
   "source": [
    "## Data Acquirement"
   ]
  },
  {
   "cell_type": "code",
   "execution_count": null,
   "metadata": {},
   "outputs": [],
   "source": [
    "#assign categories to each transaction\n",
    "    # add a menu item to allow the user to view all the transactions in a given category\n",
    "    # provide the user with summary statistics about the transactions in each category\n",
    "def get_category():\n",
    "    categories = [{1:\"entertaiment\"}, {2:\"grocery\"}, {3:\"business\"}, {4:\"transportation\"}, {5:\"else\"}]\n",
    "    while True:\n",
    "        for i, category in enumerate(categories,start = 1):\n",
    "            print(i, category[i].capitalize())\n",
    "        category_choice = input(\"Please select type of your transaction:\")\n",
    "        if category_choice in [\"1\", \"2\", \"3\", \"4\", \"5\"]:\n",
    "            return categories[int(category_choice) - 1][int(category_choice)]\n",
    "        else:\n",
    "            print(\"Invalid choice, please try again!\\n\")\n",
    "\n",
    "#Get tansaction time\n",
    "import time\n",
    "def get_tansaction_time():\n",
    "    tansaction_time = time.strftime(\"%Y-%m-%d %H:%M:%S\", time.localtime())\n",
    "    return tansaction_time\n",
    "\n",
    "#get description\n",
    "def get_description():\n",
    "    while True:\n",
    "        option = input(\"Do you want to add a description to your transaction? Y or N :\")\n",
    "        if option.upper() == \"Y\":\n",
    "            description = input(\"Please type your description: \")\n",
    "            return description\n",
    "        elif option.upper() == \"N\":\n",
    "            description = \"no description\"\n",
    "            return description\n",
    "        else: \n",
    "            print(\"Invalid input, please try again\")"
   ]
  },
  {
   "cell_type": "markdown",
   "metadata": {},
   "source": [
    "## File Format Setup"
   ]
  },
  {
   "cell_type": "code",
   "execution_count": null,
   "metadata": {},
   "outputs": [],
   "source": [
    "#set input\n",
    "def set_transaction(category, amount):\n",
    "    c = category\n",
    "    t = get_tansaction_time()\n",
    "    a = amount\n",
    "    d = get_description()\n",
    "    transaction = {\"category\": c, \"time\": t, \"amount\": a, \"description\": d}\n",
    "    with open(\"transaction.txt\", \"a\") as f:\n",
    "        f.write(str(transaction) + \"\\n\")\n",
    "\n",
    "#get transaction info\n",
    "import ast\n",
    "def get_transaction_info():\n",
    "    with open(\"transaction.txt\") as f:\n",
    "        content = f.readlines()\n",
    "    new_trans = []\n",
    "    for item in content:\n",
    "        new_trans.append(ast.literal_eval(item.replace(\"\\n\", '')))\n",
    "    return new_trans\n",
    "    \n"
   ]
  },
  {
   "cell_type": "markdown",
   "metadata": {},
   "source": [
    "## Basic Features"
   ]
  },
  {
   "cell_type": "code",
   "execution_count": null,
   "metadata": {},
   "outputs": [],
   "source": [
    "#Check input\n",
    "def check_input(str_num):\n",
    "    string = str_num.replace(\".\", \"\")\n",
    "    return string.isdigit()\n",
    "\n",
    "#get input number\n",
    "def get_input_number():\n",
    "    while True:\n",
    "        amount = input(\"How much would you like  $\")\n",
    "        if check_input( amount):\n",
    "            return amount \n",
    "        print(\"Invalid input, please try again!\")    \n",
    "    \n",
    "#get current balance \n",
    "def get_current_balance():\n",
    "    transactions = get_transaction_info()\n",
    "    transaction_amounts = [float(transaction[\"amount\"]) for transaction in transactions]\n",
    "    return  sum(transaction_amounts)\n",
    "\n",
    "#Get debit\n",
    "def get_debit():\n",
    "    category = get_category()\n",
    "#Check if the input is a valid number\n",
    "    while True:\n",
    "        debit = input(\"How much would you like to withdraw? $\")\n",
    "        if check_input(debit):\n",
    "            break  \n",
    "        print(\"Invalid input, please try again!\")\n",
    "#check if the debit excceed the current balance\n",
    "    if float(debit) >= get_current_balance():\n",
    "        print(\"The amout you withdraw ecceed your balance, please enter again.\")\n",
    "        return \"0\"\n",
    "    else:\n",
    "#Append withdraw amount to the storage file\n",
    "        #debit_with_category\n",
    "        signed_debit = \"-\" + debit\n",
    "        set_transaction(category, signed_debit)\n",
    "        return debit\n",
    "\n",
    "#Get credit\n",
    "def get_credit():\n",
    "    category = get_category()\n",
    "#Check if the input is a valid number\n",
    "    while True:\n",
    "        credit = input(\"How much would you like to deposit? $\")\n",
    "        if check_input(credit):\n",
    "            break  \n",
    "        print(\"Invalid input, please try again!\")\n",
    "#Append withdraw amount to the storage file\n",
    "    set_transaction(category, credit)\n",
    "    return credit\n",
    "\n",
    "\n",
    "       "
   ]
  },
  {
   "cell_type": "markdown",
   "metadata": {},
   "source": [
    "## Additional Feature"
   ]
  },
  {
   "cell_type": "code",
   "execution_count": null,
   "metadata": {},
   "outputs": [],
   "source": [
    "#Show historical transaction:\n",
    "def show_historical_transactions():\n",
    "    #print(\"No   | category    |time     |amount    |description     \\n\")\n",
    "    with open(\"transaction.txt\") as f:\n",
    "        transactions = f.readlines()\n",
    "    for i, transaction in enumerate(transactions, start = 1):\n",
    "        print(str(i) + \" \" + transaction)      \n",
    "#         if float(balance) <= 0:\n",
    "#             print(str(i) + \" Withdraw amount: $\" + balance)\n",
    "#         else:\n",
    "#             print(str(i) +\"Deposit amount: $\" + balance)\n",
    "\n",
    "\n",
    "#add a menu item to allow the user to view all the transactions in a given category\n",
    "def transaction_in_a_category():\n",
    "    transactions = get_transaction_info()\n",
    "    category = get_category()\n",
    "    transaction_amounts = []\n",
    "    for transaction in transactions:\n",
    "        if transaction[\"category\"] == category:\n",
    "            print(transaction)\n",
    "    #provide the user with summary statistics about the transactions in each category\n",
    "    transaction_amounts = [float(transaction[\"amount\"]) for transaction in transactions if transaction[\"category\"] == category]\n",
    "    total_transactions = sum(transaction_amounts)                                    \n",
    "    print(\"Your total transactions in this category is : $\" + str(total_transactions))\n",
    "\n",
    "#allow the user to view all the transactions for a given day\n",
    "def transaction_in_a_day():\n",
    "    transactions = get_transaction_info()\n",
    "    year = input(\"Please input year: \")\n",
    "    month = input(\"Please input month: \")\n",
    "    day = input( \"Please input day: \")\n",
    "    date = year + \"-\" + month + \"-\" + day\n",
    "    transaction_amounts = []\n",
    "    for transaction in transactions:\n",
    "        if transaction[\"time\"][:10] == date:\n",
    "            print(transaction)\n",
    "    #provide the user with summary statistics about the transactions in this date\n",
    "    transaction_amounts = [float(transaction[\"amount\"]) for transaction in transactions if transaction[\"time\"][:10] == date]\n",
    "    total_transactions = sum(transaction_amounts)                                    \n",
    "    print(\"Your total transactions in this date is : $\" + str(total_transactions))\n",
    "    \n",
    "#allow the user to search for keywords in the transaction descriptions, \n",
    "#and show all the transactions that match the user's search term\n",
    "def search_transaction_by_keyword():\n",
    "    transactions = get_transaction_info()\n",
    "    keyword = input(\"Please type the keyword for your search\")\n",
    "    for transaction in transactions:\n",
    "        if keyword in transaction[\"description\"]:\n",
    "            print(transaction)\n"
   ]
  },
  {
   "cell_type": "markdown",
   "metadata": {},
   "source": [
    "# MAIN FUNCTION"
   ]
  },
  {
   "cell_type": "code",
   "execution_count": null,
   "metadata": {},
   "outputs": [],
   "source": [
    "# Main function\n",
    "while True:\n",
    "    choice = input(\"What would you like to do?\\n\\n1) View current balance\\n2) Record a debit (withdraw)\\n3) Record a credit (deposit)\\n4) Historical transactions \\n5) Transaction in a selected category \\n6) Transaction in a selected date \\n7) See your transaction by a keyword \\n8) Exit\\n\\nYour choice? \")\n",
    "    if choice == \"1\":\n",
    "        print(\"Your current balance is $\" + str(get_current_balance()))\n",
    "        \n",
    "    elif choice == \"2\":\n",
    "        print(\"You have withdraw $\" + get_debit() + \" off your account.\")\n",
    "        \n",
    "    elif choice == \"3\":\n",
    "        print(\"You have deposit $\" + get_credit() + \" into your account.\")\n",
    "    \n",
    "    elif choice == \"4\":\n",
    "        print(\"The following list your historical transactions \")\n",
    "        show_historical_transactions()\n",
    "        \n",
    "    elif choice == \"5\":\n",
    "        print(\"See your transaction in a selected category : \")\n",
    "        transaction_in_a_category()\n",
    "        \n",
    "    elif choice == \"6\":\n",
    "        print(\"See your transaction in a selected date : \")\n",
    "        transaction_in_a_day()\n",
    "        \n",
    "    elif choice == \"7\":\n",
    "        print(\"See your transaction by a keyword : \")\n",
    "        search_transaction_by_keyword()\n",
    "        \n",
    "    elif choice == \"8\":\n",
    "        print(\"Thanks, have a great day!\")\n",
    "        break\n",
    "    else:\n",
    "        print(\"Invalid input\")"
   ]
  },
  {
   "cell_type": "code",
   "execution_count": null,
   "metadata": {},
   "outputs": [],
   "source": [
    "# erase all data\n",
    "with open(\"transaction.txt\", \"w\") as f:\n",
    "    f.write('')"
   ]
  },
  {
   "cell_type": "code",
   "execution_count": null,
   "metadata": {},
   "outputs": [],
   "source": [
    "# show all data\n",
    "with open(\"transaction.txt\") as f:\n",
    "    print(f.read())"
   ]
  },
  {
   "cell_type": "code",
   "execution_count": null,
   "metadata": {},
   "outputs": [],
   "source": []
  }
 ],
 "metadata": {
  "kernelspec": {
   "display_name": "Python 3",
   "language": "python",
   "name": "python3"
  },
  "language_info": {
   "codemirror_mode": {
    "name": "ipython",
    "version": 3
   },
   "file_extension": ".py",
   "mimetype": "text/x-python",
   "name": "python",
   "nbconvert_exporter": "python",
   "pygments_lexer": "ipython3",
   "version": "3.7.4"
  }
 },
 "nbformat": 4,
 "nbformat_minor": 2
}
