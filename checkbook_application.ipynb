{
 "cells": [
  {
   "cell_type": "markdown",
   "metadata": {},
   "source": [
    "# Basic Features"
   ]
  },
  {
   "cell_type": "code",
   "execution_count": null,
   "metadata": {},
   "outputs": [],
   "source": [
    "#Check input\n",
    "def check_input(str_num):\n",
    "    string = str_num.replace(\".\", \"\")\n",
    "    return string.isdigit()\n",
    "      \n",
    "    \n",
    "#get current balance \n",
    "def get_current_balance():\n",
    "    with open(\"balance.txt\") as f:\n",
    "        balances = f.readlines()\n",
    "    balance_in_nums = []\n",
    "    for balance in balances:\n",
    "        balance_in_nums.append(float(balance.replace(\"\\n\", \"\")))\n",
    "    return  sum(balance_in_nums )\n",
    "\n",
    "#Get debit\n",
    "def get_debit():\n",
    "    #category = get_category()\n",
    "#Check if the input is a valid number\n",
    "    while True:\n",
    "        debit = input(\"How much would you like to withdraw? $\")\n",
    "        if check_input(debit):\n",
    "            break  \n",
    "        print(\"Invalid input, please try again!\")\n",
    "#check if the debit excceed the current balance\n",
    "    if float(debit) >= get_current_balance():\n",
    "        print(\"The amout you withdraw ecceed your balance, please enter again.\")\n",
    "        return \"0\"\n",
    "    else:\n",
    "#Append withdraw amount to the storage file\n",
    "        #debit_with_category\n",
    "        with open(\"balance.txt\", \"a\") as f:\n",
    "            f.write(\"-\" + debit + \"\\n\")\n",
    "        return debit\n",
    "\n",
    "#Get credit\n",
    "def get_credit():\n",
    "#Check if the input is a valid number\n",
    "    while True:\n",
    "        credit = input(\"How much would you like to deposit? $\")\n",
    "        if check_input(credit):\n",
    "            break  \n",
    "        print(\"Invalid input, please try again!\")\n",
    "#Append withdraw amount to the storage file\n",
    "    with open(\"balance.txt\", \"a\") as f:\n",
    "        f.write(credit+\"\\n\")\n",
    "    return credit\n",
    "\n",
    "\n",
    "       "
   ]
  },
  {
   "cell_type": "markdown",
   "metadata": {},
   "source": [
    "# Additional Feature"
   ]
  },
  {
   "cell_type": "code",
   "execution_count": null,
   "metadata": {},
   "outputs": [],
   "source": [
    "#Show historical transaction:\n",
    "def show_historical_transactions():\n",
    "    with open(\"balance.txt\") as f:\n",
    "        balances = f.readlines()\n",
    "    for i, balance in enumerate(balances, start = 1):\n",
    "        if float(balance) <= 0:\n",
    "            print(str(i) + \" Withdraw amount: $\" + balance)\n",
    "        else:\n",
    "            print(str(i) +\"Deposit amount: $\" + balance)"
   ]
  },
  {
   "cell_type": "code",
   "execution_count": null,
   "metadata": {},
   "outputs": [],
   "source": [
    "#assign categories to each transaction\n",
    "    # add a menu item to allow the user to view all the transactions in a given category\n",
    "    # provide the user with summary statistics about the transactions in each category\n",
    "def get_category():\n",
    "    categories = [{1:\"entertaiment\"}, {2:\"grocery\"}, {3:\"business\"}, {4:\"transportation\"}, {5:\"else\"}]\n",
    "    while True:\n",
    "        for i, category in enumerate(categories,start = 1):\n",
    "            print(i, category[i].capitalize())\n",
    "        category_choice = input(\"Please select type of your transaction:\")\n",
    "        if category_choice in [\"1\", \"2\", \"3\", \"4\", \"5\"]:\n",
    "            return categories[int(category_choice) - 1][int(category_choice)]\n",
    "        else:\n",
    "            print(\"Invalid choice, please try again!\\n\")\n",
    "\n",
    "      \n",
    "    \n",
    "    \n",
    "get_category()"
   ]
  },
  {
   "cell_type": "markdown",
   "metadata": {},
   "source": [
    "# Main Function"
   ]
  },
  {
   "cell_type": "code",
   "execution_count": null,
   "metadata": {},
   "outputs": [],
   "source": [
    "# Greetings \n",
    "print(\"\\n~~~ Welcome to your terminal checkbook! ~~~\\n\\n\")\n",
    "\n",
    "\n",
    "\n"
   ]
  },
  {
   "cell_type": "code",
   "execution_count": null,
   "metadata": {},
   "outputs": [],
   "source": [
    "# Main function\n",
    "while True:\n",
    "    choice = input(\"What would you like to do?\\n\\n1) view current balance\\n2) record a debit (withdraw)\\n3) record a credit (deposit)\\n4)historical transactions \\n5)exit\\n\\nYour choice? \")\n",
    "    if choice == \"1\":\n",
    "        print(\"Your current balance is $\" + str(get_current_balance()))\n",
    "        \n",
    "    elif choice == \"2\":\n",
    "        print(\"You have withdraw $\" + get_debit() + \" off your account.\")\n",
    "        \n",
    "    elif choice == \"3\":\n",
    "        print(\"You have deposit $\" + get_credit() + \" into your account.\")\n",
    "    \n",
    "    elif choice == \"4\":\n",
    "        print(\"The following list your historical transactions \")\n",
    "        show_historical_transactions()\n",
    "            \n",
    "    elif choice == \"5\":\n",
    "        print(\"Thanks, have a great day!\")\n",
    "        break\n",
    "    else:\n",
    "        print(\"Invalid input\")"
   ]
  },
  {
   "cell_type": "code",
   "execution_count": null,
   "metadata": {},
   "outputs": [],
   "source": [
    "with open(\"transaction.txt\", \"w\") as f:\n",
    "    f.write('')"
   ]
  },
  {
   "cell_type": "code",
   "execution_count": null,
   "metadata": {},
   "outputs": [],
   "source": [
    "#set input\n",
    "transaction = {\"category\": c, \"time\": t, \"amount\": a, \"description\": d}\n",
    "trans = [\"\", \"\", \"\", \"\"]\n",
    "for i in range(len(trans)):\n",
    "    trans[i] = input(list(transaction.keys())[i] + \" :\")\n",
    "[c, t, a, d] = trans\n",
    "transaction = {\"category\": c, \"time\": t, \"amount\": a, \"description\": d}\n",
    "print(transaction)\n",
    "    "
   ]
  },
  {
   "cell_type": "code",
   "execution_count": null,
   "metadata": {},
   "outputs": [],
   "source": [
    "with open(\"transaction.txt\", \"a\") as f:\n",
    "    f.write(str(transaction) + \"\\n\")\n",
    "\n",
    "with open(\"transaction.txt\") as f:\n",
    "    content = f.readlines()\n",
    "print(content)"
   ]
  },
  {
   "cell_type": "code",
   "execution_count": null,
   "metadata": {},
   "outputs": [],
   "source": []
  }
 ],
 "metadata": {
  "kernelspec": {
   "display_name": "Python 3",
   "language": "python",
   "name": "python3"
  },
  "language_info": {
   "codemirror_mode": {
    "name": "ipython",
    "version": 3
   },
   "file_extension": ".py",
   "mimetype": "text/x-python",
   "name": "python",
   "nbconvert_exporter": "python",
   "pygments_lexer": "ipython3",
   "version": "3.7.4"
  }
 },
 "nbformat": 4,
 "nbformat_minor": 2
}
